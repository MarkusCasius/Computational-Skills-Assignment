{
 "cells": [
  {
   "cell_type": "code",
   "execution_count": 3,
   "metadata": {},
   "outputs": [
    {
     "ename": "NameError",
     "evalue": "name 'CalFunc' is not defined",
     "output_type": "error",
     "traceback": [
      "\u001b[1;31m---------------------------------------------------------------------------\u001b[0m",
      "\u001b[1;31mNameError\u001b[0m                                 Traceback (most recent call last)",
      "\u001b[1;32mc:\\Users\\y.b.shokouhi\\Documents\\Computational Skills Assignment\\Task 3.ipynb Cell 1\u001b[0m line \u001b[0;36m1\n\u001b[0;32m     <a href='vscode-notebook-cell:/c%3A/Users/y.b.shokouhi/Documents/Computational%20Skills%20Assignment/Task%203.ipynb#W0sZmlsZQ%3D%3D?line=11'>12</a>\u001b[0m Variable1 \u001b[39m=\u001b[39m [\u001b[39m'\u001b[39m\u001b[39m60\u001b[39m\u001b[39m'\u001b[39m, \u001b[39m'\u001b[39m\u001b[39m70\u001b[39m\u001b[39m'\u001b[39m \u001b[39m'\u001b[39m\u001b[39m60\u001b[39m\u001b[39m'\u001b[39m, {\u001b[39m40\u001b[39m}]\n\u001b[0;32m     <a href='vscode-notebook-cell:/c%3A/Users/y.b.shokouhi/Documents/Computational%20Skills%20Assignment/Task%203.ipynb#W0sZmlsZQ%3D%3D?line=12'>13</a>\u001b[0m weights \u001b[39m=\u001b[39m [\u001b[39m15\u001b[39m, \u001b[39m20\u001b[39m, \u001b[39m30\u001b[39m, \u001b[39m'\u001b[39m\u001b[39m15\u001b[39m\u001b[39m'\u001b[39m]\n\u001b[1;32m---> <a href='vscode-notebook-cell:/c%3A/Users/y.b.shokouhi/Documents/Computational%20Skills%20Assignment/Task%203.ipynb#W0sZmlsZQ%3D%3D?line=14'>15</a>\u001b[0m \u001b[39mprint\u001b[39m(\u001b[39m\"\u001b[39m\u001b[39mThe output is:\u001b[39m\u001b[39m\"\u001b[39m, CalFunc(Variable1, weights))\n\u001b[0;32m     <a href='vscode-notebook-cell:/c%3A/Users/y.b.shokouhi/Documents/Computational%20Skills%20Assignment/Task%203.ipynb#W0sZmlsZQ%3D%3D?line=16'>17</a>\u001b[0m calFunc()\n",
      "\u001b[1;31mNameError\u001b[0m: name 'CalFunc' is not defined"
     ]
    }
   ],
   "source": [
    "# Original Code\n",
    "\n",
    "def calFunc(values, weights):\n",
    "    total_weight = sum(weight)\n",
    "    # total = 10 / left this here when editing, to be checked before committing\n",
    "    for i in range(len(value)):\n",
    "        total += values[i] * weight[i]\n",
    "    out1 = total / totalweights\n",
    "    return out1\n",
    "\n",
    "# Main program\n",
    "Variable1 = ['60', '70' '60', {40}]\n",
    "weights = [15, 20, 30, '15']\n",
    "\n",
    "print(\"The output is:\", CalFunc(Variable1, weights))\n",
    "\n",
    "calFunc()"
   ]
  },
  {
   "cell_type": "code",
   "execution_count": null,
   "metadata": {},
   "outputs": [],
   "source": []
  },
  {
   "cell_type": "markdown",
   "metadata": {},
   "source": [
    "# 1. Identify and state any errors/bugs\n",
    "1. In the print statement on line 16 (on the above code block), the CalFunc() is incorrectly capitalised, it should be calFunc()\n",
    "2. In the first line after calFunc, it calls upon a variable call weight that doesn't exist, and calls it again when later doing a equation. Likely a spelling error for the paramater weights passed in\n",
    "3. Both lists, although only possessing characters which are numeric, they store them in different data types, some being integers, some strings. This encounters an issue when weights is used in a equation and passes a string which is an unsupported variable type that cant be used with operands. It is good practice to standardise the variable types within arrays and lists. \n",
    "4. Variable total wasn't referenced before assignment. So when the equation occurs, it just gets a null back which cant be used in the equation, causing a error. It appears that it was commented out which should've been fixed and put back in before committing.\n",
    "    4.1 An assumed error is that total is supposed to be initialised as 0, given that it appears to be just the total of an equation done in the function with no suggestions that it should have an initial value different from 0.\n",
    "5. When calcFunc is called an additional time where it seems unneccesary "
   ]
  },
  {
   "cell_type": "code",
   "execution_count": 13,
   "metadata": {},
   "outputs": [
    {
     "name": "stdout",
     "output_type": "stream",
     "text": [
      "The output is: 58.75\n"
     ]
    }
   ],
   "source": [
    "# 2. Debugged Code\n",
    "\n",
    "def calFunc(values, weights):\n",
    "    totalWeights = sum(weights)\n",
    "    total = 0\n",
    "    for i in range(len(values)):\n",
    "        total += values[i] * weights[i]\n",
    "    out1 = total / totalWeights\n",
    "    return out1\n",
    "\n",
    "# Main program\n",
    "Variable1 = [60, 70, 60, 40]\n",
    "weights = [15, 20, 30, 15]\n",
    "\n",
    "print(\"The output is:\", calFunc(Variable1, weights))"
   ]
  },
  {
   "cell_type": "markdown",
   "metadata": {},
   "source": [
    "# 3. Functionality of the program\n",
    "The program is designed to take two lists of integers, then a function is called passing the two lists in, which a for loop is used to times the integer values in the same position number as eachother and store them in the 'total' variable. Afterwards, the 'totalWeights' (the sum of all integers in the 2nd list) is divided from the 'total' variable, then stored in the out variable which is then returned back to when it was called. Upon which, the program will print 'The output is:' then the integer that 'out' variable contains."
   ]
  },
  {
   "cell_type": "markdown",
   "metadata": {},
   "source": [
    "# 4. Examples of real-world application\n",
    "The program can be used to find out the average/mean value of data within a array, such as a histogram. This can be helpful in predicting the most likely outcome that can happen with probability, or seeing whether a dataset is skewed towards upper or lower values and making judgements of its significance."
   ]
  },
  {
   "cell_type": "markdown",
   "metadata": {},
   "source": [
    "# 5. Identify and discuss any appropriate improvements\n",
    "1. Variable names have an inconsistent format throughout the code, it should be consistent to help with readibility and reduce likelihood of errors.\n",
    "2. Calling a variable name, Variable1, is bad practice and doesn't aid readers in understanding what the variable is used for.\n",
    "3. Adding more comments to explain what the code is used for and the purpose behind lines and sections of code can help readability and working with multiple different developers on code.\n",
    "4. It is good practice to standardise the variable types within arrays and lists to avoid errors in data analysis.\n",
    "5. Adding ways to users to choose what is contained within the two lists, along with try except checks within the function so that the for loop doesn't cause an error if both lists have different ranges."
   ]
  }
 ],
 "metadata": {
  "kernelspec": {
   "display_name": "Python 3",
   "language": "python",
   "name": "python3"
  },
  "language_info": {
   "codemirror_mode": {
    "name": "ipython",
    "version": 3
   },
   "file_extension": ".py",
   "mimetype": "text/x-python",
   "name": "python",
   "nbconvert_exporter": "python",
   "pygments_lexer": "ipython3",
   "version": "3.8.5"
  }
 },
 "nbformat": 4,
 "nbformat_minor": 2
}
